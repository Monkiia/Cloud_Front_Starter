{
 "cells": [
  {
   "cell_type": "markdown",
   "id": "18debc3f",
   "metadata": {},
   "source": [
    "## This script creates a DynamoDB table and inserts Yelp data into it"
   ]
  },
  {
   "cell_type": "code",
   "execution_count": 40,
   "id": "05381f5d",
   "metadata": {},
   "outputs": [
    {
     "name": "stdout",
     "output_type": "stream",
     "text": [
      "Table status: CREATING\n"
     ]
    }
   ],
   "source": [
    "import boto3\n",
    "\n",
    "\n",
    "def create_restaurant_table(dynamodb=None):\n",
    "    if not dynamodb:\n",
    "        dynamodb = boto3.resource('dynamodb')\n",
    "\n",
    "    table = dynamodb.create_table(\n",
    "        TableName='yelp-restaurants',\n",
    "        KeySchema=[\n",
    "            {\n",
    "                'AttributeName': 'id',\n",
    "                'KeyType': 'HASH'  # Partition key\n",
    "            }\n",
    "        ],\n",
    "        AttributeDefinitions=[\n",
    "            {\n",
    "                'AttributeName': 'id',\n",
    "                'AttributeType': 'S'\n",
    "            },\n",
    "\n",
    "        ],\n",
    "        ProvisionedThroughput={\n",
    "            'ReadCapacityUnits': 10,\n",
    "            'WriteCapacityUnits': 10\n",
    "        }\n",
    "     \n",
    "    )\n",
    "    return table\n",
    "\n",
    "\n",
    "if __name__ == '__main__':\n",
    "    restaurant_table = create_restaurant_table()\n",
    "    print(\"Table status:\", restaurant_table.table_status)\n"
   ]
  },
  {
   "cell_type": "code",
   "execution_count": 47,
   "id": "43677794",
   "metadata": {},
   "outputs": [],
   "source": [
    "from decimal import Decimal\n",
    "from datetime import datetime\n",
    "import json\n",
    "import boto3\n",
    "\n",
    "\n",
    "def load_restaurant(restaurant, dynamodb=None):\n",
    "    if not dynamodb:\n",
    "        dynamodb = boto3.resource('dynamodb')\n",
    "\n",
    "    table = dynamodb.Table('yelp-restaurants')\n",
    "    for r in restaurant:\n",
    "        dateTimeObj = datetime.now()\n",
    "        r['insertedAtTimestamp'] = str(dateTimeObj)\n",
    "        table.put_item(Item=r)\n",
    "\n",
    "\n",
    "if __name__ == '__main__':\n",
    "    with open(\"Chinesedata.json\") as json_file:\n",
    "        restaurant_list = json.load(json_file, parse_float=Decimal)\n",
    "    load_restaurant(restaurant_list)"
   ]
  },
  {
   "cell_type": "code",
   "execution_count": null,
   "id": "e6d2f10e",
   "metadata": {},
   "outputs": [],
   "source": []
  }
 ],
 "metadata": {
  "kernelspec": {
   "display_name": "Python 3",
   "language": "python",
   "name": "python3"
  },
  "language_info": {
   "codemirror_mode": {
    "name": "ipython",
    "version": 3
   },
   "file_extension": ".py",
   "mimetype": "text/x-python",
   "name": "python",
   "nbconvert_exporter": "python",
   "pygments_lexer": "ipython3",
   "version": "3.8.8"
  }
 },
 "nbformat": 4,
 "nbformat_minor": 5
}
