{
 "cells": [
  {
   "cell_type": "markdown",
   "id": "c9d29a99",
   "metadata": {},
   "source": [
    "## This script pulls data from Yelp Based on Cuisines"
   ]
  },
  {
   "cell_type": "code",
   "execution_count": null,
   "id": "0a09d024",
   "metadata": {},
   "outputs": [],
   "source": [
    "import requests\n",
    "API_KEY = \"9WyMXuN1-O5xR05TLAUeYqnZrTDNxc3DoRVN2l_8ztcf6cl_HZEasYht5n8W82eO5IzVIaxsXJrMrHtealRiPMJpOV58fIh73cWmZsLfoakomoBY4WKLCg6W_1BgYXYx\""
   ]
  },
  {
   "cell_type": "code",
   "execution_count": null,
   "id": "04f54c4b",
   "metadata": {},
   "outputs": [],
   "source": [
    "import json\n",
    "import time"
   ]
  },
  {
   "cell_type": "code",
   "execution_count": null,
   "id": "eee19264",
   "metadata": {},
   "outputs": [],
   "source": [
    "business_id = \"q3po66qYjhd1VzLRDuVu9Q\"\n",
    "ENDPOINT = \"https://api.yelp.com/v3/businesses/search\"\n",
    "HEADERS = {'Authorization': 'bearer %s' % API_KEY , 'User-Agent': 'PostmanRuntime/7.28.4'}"
   ]
  },
  {
   "cell_type": "code",
   "execution_count": null,
   "id": "3ce25d84",
   "metadata": {},
   "outputs": [],
   "source": [
    "PARAMETERS = {'term': 'Chinese',\n",
    "             'limit': 50,\n",
    "              'offset': 0,\n",
    "             'radius': 10000,\n",
    "             'location': 'Manhattan'\n",
    "             }"
   ]
  },
  {
   "cell_type": "code",
   "execution_count": null,
   "id": "31b1a473",
   "metadata": {},
   "outputs": [],
   "source": [
    "i = 1\n",
    "fop = []\n",
    "status_code = 200\n",
    "while status_code==200:\n",
    "    response = requests.get(url= ENDPOINT, params = PARAMETERS, headers = HEADERS)\n",
    "    print(str(i)+\" \"+str(response.status_code))\n",
    "    status_code = response.status_code\n",
    "    business_data = response.json()\n",
    "    if response.status_code==200:\n",
    "            for biz in business_data['businesses']:\n",
    "                output = {}\n",
    "                output['id'] = biz['id']\n",
    "                output['name'] = biz['name']\n",
    "                output['cuisine'] = biz['categories']\n",
    "                output['contact'] = biz['phone']\n",
    "                output['address'] = \", \".join(biz['location']['display_address'])\n",
    "                output['zipcode'] = biz['location']['zip_code']\n",
    "                output['coordinates'] = biz['coordinates']\n",
    "                output['reviewcount'] = biz['review_count']\n",
    "                output['rating'] = biz['rating']\n",
    "                fop.append(output)\n",
    "    PARAMETERS['offset'] = PARAMETERS['offset']+50\n",
    "    time.sleep(2)\n",
    "    i = i+1\n",
    "    \n",
    "print(fop)\n",
    "with open(\"Chinesedata.json\",\"a\") as jsonFile:\n",
    "    json.dump(fop, jsonFile, indent=4)\n",
    "        \n",
    "    "
   ]
  },
  {
   "cell_type": "code",
   "execution_count": null,
   "id": "4db36f77",
   "metadata": {},
   "outputs": [],
   "source": [
    "with open('Chinesedata.json') as json_file:\n",
    "    data = json.load(json_file)\n",
    "    print(len(data))"
   ]
  },
  {
   "cell_type": "code",
   "execution_count": null,
   "id": "fe2195fe",
   "metadata": {},
   "outputs": [],
   "source": []
  }
 ],
 "metadata": {
  "kernelspec": {
   "display_name": "Python 3",
   "language": "python",
   "name": "python3"
  },
  "language_info": {
   "codemirror_mode": {
    "name": "ipython",
    "version": 3
   },
   "file_extension": ".py",
   "mimetype": "text/x-python",
   "name": "python",
   "nbconvert_exporter": "python",
   "pygments_lexer": "ipython3",
   "version": "3.8.8"
  }
 },
 "nbformat": 4,
 "nbformat_minor": 5
}
