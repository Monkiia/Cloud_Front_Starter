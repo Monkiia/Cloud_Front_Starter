{
 "cells": [
  {
   "cell_type": "markdown",
   "id": "495c88f5",
   "metadata": {},
   "source": [
    "## This script converts JSON data for Bulk Upload to AWS OpenSearch"
   ]
  },
  {
   "cell_type": "code",
   "execution_count": null,
   "id": "3bd6ce7a",
   "metadata": {},
   "outputs": [],
   "source": [
    "import json"
   ]
  },
  {
   "cell_type": "code",
   "execution_count": null,
   "id": "eca69773",
   "metadata": {},
   "outputs": [],
   "source": [
    "fop = []"
   ]
  },
  {
   "cell_type": "code",
   "execution_count": null,
   "id": "c64334ac",
   "metadata": {},
   "outputs": [],
   "source": [
    "with open('Japanesedata.json') as json_file:\n",
    "    data = json.load(json_file)\n",
    "    for line in data:\n",
    "        output = {}\n",
    "        output['id'] = line['id']\n",
    "        output['cuisine'] = line['cuisine']\n",
    "        fop.append(output)"
   ]
  },
  {
   "cell_type": "code",
   "execution_count": null,
   "id": "df60a489",
   "metadata": {},
   "outputs": [],
   "source": [
    "with open('elasticdata_new.json','a') as jsonFile:\n",
    "    json.dump(fop, jsonFile)"
   ]
  },
  {
   "cell_type": "code",
   "execution_count": null,
   "id": "82c649d5",
   "metadata": {},
   "outputs": [],
   "source": [
    "fop = []\n",
    "bulk_format = { \"index\" : { \"_index\": \"restaurants\", \"_type\":\"RESTAURANT\"}}\n",
    "with open('elasticdata_new.json') as json_file:\n",
    "    data = json.load(json_file)\n",
    "    for line in data:\n",
    "        fop.append(bulk_format)\n",
    "        output = {}\n",
    "        output['id'] = line['id']\n",
    "        output['cuisine'] = line['cuisine']\n",
    "        fop.append(output)"
   ]
  },
  {
   "cell_type": "code",
   "execution_count": null,
   "id": "65760b55",
   "metadata": {},
   "outputs": [],
   "source": [
    "with open('finaltestfile.json','a') as jsonFile:\n",
    "    for line in fop:\n",
    "        jsonFile.write(str(line))\n",
    "        jsonFile.write(\"\\n\")"
   ]
  },
  {
   "cell_type": "code",
   "execution_count": null,
   "id": "e051c7e1",
   "metadata": {},
   "outputs": [],
   "source": [
    "with open('finaltestfile.json','r') as jsonrFile:\n",
    "    with open(\"finalbulk_data.json\",\"a\") as jsonFile:\n",
    "        for line in jsonrFile:\n",
    "            jsonFile.write(line.replace(\"\\'\",\"\\\"\")) "
   ]
  },
  {
   "cell_type": "markdown",
   "id": "6fd57341",
   "metadata": {},
   "source": [
    "### After creating the JSON bulk file, we use curl to push the data into OpenSearch Index"
   ]
  },
  {
   "cell_type": "markdown",
   "id": "0eeca1bb",
   "metadata": {},
   "source": [
    "curl -XPOST -u 'MASTERUSER:PASSWORD' 'https://search-assignment1-y7e244cuvw5v26h5ot4ogbxjty.us-east-1.es.amazonaws.com/_bulk' --data-binary @finalbulk_data.json -H 'Content-Type: application/json'"
   ]
  }
 ],
 "metadata": {
  "kernelspec": {
   "display_name": "Python 3",
   "language": "python",
   "name": "python3"
  },
  "language_info": {
   "codemirror_mode": {
    "name": "ipython",
    "version": 3
   },
   "file_extension": ".py",
   "mimetype": "text/x-python",
   "name": "python",
   "nbconvert_exporter": "python",
   "pygments_lexer": "ipython3",
   "version": "3.8.8"
  }
 },
 "nbformat": 4,
 "nbformat_minor": 5
}
